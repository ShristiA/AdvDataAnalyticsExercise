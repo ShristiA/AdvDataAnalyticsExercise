{
  "cells": [
    {
      "metadata": {
        "trusted": true
      },
      "cell_type": "code",
      "source": "hourWorked = int(input(\"Enter hours worked:\"))\npayRate = float(input(\"Enter payRate:\"))\nname = str(input(\"What is your name?\"))\n\nif hourWorked > 40:\n    Salary = (hourWorked - 40)*1.5*payRate\n    Salary = Salary + 40*payRate\nelse:\n     Salary = (hourWorked*payRate)\n    \nprint(name )\nprint(Salary)\n",
      "execution_count": 11,
      "outputs": [
        {
          "output_type": "stream",
          "name": "stdout",
          "text": "Enter hours worked:62\nEnter payRate:43.0\nWhat is your name?Mel\nMel\n3139.0\n"
        }
      ]
    },
    {
      "metadata": {
        "trusted": true
      },
      "cell_type": "code",
      "source": "",
      "execution_count": null,
      "outputs": []
    }
  ],
  "metadata": {
    "kernelspec": {
      "name": "python36",
      "display_name": "Python 3.6",
      "language": "python"
    },
    "language_info": {
      "mimetype": "text/x-python",
      "nbconvert_exporter": "python",
      "name": "python",
      "pygments_lexer": "ipython3",
      "version": "3.6.6",
      "file_extension": ".py",
      "codemirror_mode": {
        "version": 3,
        "name": "ipython"
      }
    }
  },
  "nbformat": 4,
  "nbformat_minor": 2
}